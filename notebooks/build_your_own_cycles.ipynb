{
 "cells": [
  {
   "cell_type": "markdown",
   "metadata": {},
   "source": [
    "# Links\n",
    "\n",
    "The following online GUI tools can be used to generate perceptually distinct color cycles.\n",
    "\n",
    "* [color cycle picker](https://colorcyclepicker.mpetroff.net)\n",
    "* [i want hue](http://tools.medialab.sciences-po.fr/iwanthue/index.php)\n",
    "* [coolers](https://coolors.co)\n",
    "* [viz palette](https://projects.susielu.com/viz-palette)\n",
    "\n",
    "You can also programatically generate color cycles with [ProPlot](https://proplot.readthedocs.io/)."
   ]
  },
  {
   "cell_type": "markdown",
   "metadata": {},
   "source": [
    "# Colorblind friendly\n",
    "Something we didn't get into -- you generally want your colormaps to be colorblind friendly. A great tool for testing this is the [Color Oracle](https://colororacle.org) app. In the future, you may also be able to use ProPlot to test the colorblind-friendliness of colormaps."
   ]
  },
  {
   "cell_type": "markdown",
   "metadata": {},
   "source": [
    "# Custom cycles\n",
    "\n",
    "The below cell uses ProPlot to [register color cycles](https://proplot.readthedocs.io/en/latest/colors.html#adding-online-color-cycles) designed online. Try plotting some sample data with them!\n",
    "\n",
    "Color cycle colors only really need to be \"well separated\" in the HCL colorspace. They do not need to."
   ]
  },
  {
   "cell_type": "code",
   "execution_count": null,
   "metadata": {},
   "outputs": [],
   "source": [
    "import os\n",
    "\n",
    "# Paste a list of hex strings in the below string\n",
    "name = 'tmp'\n",
    "hexdata = \"\"\"\n",
    "#000000 #ffffff\n",
    "\"\"\"\n",
    "with open(os.path.expanduser(f'~/.proplot/cycles/{name}.hex'), 'w') as f:\n",
    "    f.write(hexdata)\n",
    "    \n",
    "# Paste a 3-column table of RGB data in the below string\n",
    "name = 'tmp'\n",
    "rgbdata = \"\"\"\n",
    "0, 0, 0\n",
    "1, 1, 1\n",
    "\"\"\"\n",
    "with open(os.path.expanduser(f'~/.proplot/cycles/{name}.rgb'), 'w') as f:\n",
    "    f.write(rgbdata)"
   ]
  }
 ],
 "metadata": {
  "kernelspec": {
   "display_name": "Python 3",
   "language": "python",
   "name": "python3"
  },
  "language_info": {
   "codemirror_mode": {
    "name": "ipython",
    "version": 3
   },
   "file_extension": ".py",
   "mimetype": "text/x-python",
   "name": "python",
   "nbconvert_exporter": "python",
   "pygments_lexer": "ipython3",
   "version": "3.7.3"
  },
  "toc": {
   "base_numbering": 1,
   "colors": {
    "hover_highlight": "#ece260",
    "navigate_num": "#000000",
    "navigate_text": "#000000",
    "running_highlight": "#FF0000",
    "selected_highlight": "#fff968",
    "sidebar_border": "#ffffff",
    "wrapper_background": "#ffffff"
   },
   "moveMenuLeft": false,
   "nav_menu": {
    "height": "66px",
    "width": "252px"
   },
   "navigate_menu": true,
   "number_sections": true,
   "sideBar": true,
   "skip_h1_title": false,
   "threshold": 4,
   "title_cell": "Table of Contents",
   "title_sidebar": "Contents",
   "toc_cell": false,
   "toc_position": {},
   "toc_section_display": "block",
   "toc_window_display": true,
   "widenNotebook": false
  },
  "varInspector": {
   "cols": {
    "lenName": 16,
    "lenType": 16,
    "lenVar": 40
   },
   "kernels_config": {
    "python": {
     "delete_cmd_postfix": "",
     "delete_cmd_prefix": "del ",
     "library": "var_list.py",
     "varRefreshCmd": "print(var_dic_list())"
    },
    "r": {
     "delete_cmd_postfix": ") ",
     "delete_cmd_prefix": "rm(",
     "library": "var_list.r",
     "varRefreshCmd": "cat(var_dic_list()) "
    }
   },
   "types_to_exclude": [
    "module",
    "function",
    "builtin_function_or_method",
    "instance",
    "_Feature"
   ],
   "window_display": false
  }
 },
 "nbformat": 4,
 "nbformat_minor": 2
}
