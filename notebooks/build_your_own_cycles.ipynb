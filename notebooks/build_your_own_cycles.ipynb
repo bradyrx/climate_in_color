{
 "cells": [
  {
   "cell_type": "markdown",
   "metadata": {},
   "source": [
    "# Links\n",
    "\n",
    "The following online GUI tools can be used to generate perceptually distinct color cycles.\n",
    "\n",
    "* [color cycle picker](https://colorcyclepicker.mpetroff.net)\n",
    "* [i want hue](http://tools.medialab.sciences-po.fr/iwanthue/index.php)\n",
    "* [coolers](https://coolors.co)\n",
    "* [viz palette](https://projects.susielu.com/viz-palette)\n",
    "\n",
    "You can programatically generate color cycles with [ProPlot](https://proplot.readthedocs.io/). Also, to make sure your colormaps are colorblind friendly, we recommend the [Color Oracle](https://colororacle.org) app."
   ]
  },
  {
   "cell_type": "markdown",
   "metadata": {},
   "source": [
    "# Create your own color cycles\n",
    "\n",
    "The below cell uses ProPlot to [register color cycles](https://proplot.readthedocs.io/en/latest/colors.html#adding-online-color-cycles) using color cycle data copied from online GUI tools."
   ]
  },
  {
   "cell_type": "code",
   "execution_count": null,
   "metadata": {},
   "outputs": [],
   "source": [
    "import os\n",
    "\n",
    "# Paste a list of hex strings in the below string\n",
    "name = 'tmp'\n",
    "hexdata = \"\"\"\n",
    "#000000 #ffffff\n",
    "\"\"\"\n",
    "with open(os.path.expanduser(f'~/.proplot/cycles/{name}.hex'), 'w') as f:\n",
    "    f.write(hexdata)\n",
    "    \n",
    "# Paste a 3-column table of RGB data in the below string\n",
    "name = 'tmp'\n",
    "rgbdata = \"\"\"\n",
    "0, 0, 0\n",
    "1, 1, 1\n",
    "\"\"\"\n",
    "with open(os.path.expanduser(f'~/.proplot/cycles/{name}.rgb'), 'w') as f:\n",
    "    f.write(rgbdata)"
   ]
  },
  {
   "cell_type": "markdown",
   "metadata": {},
   "source": [
    "# Try out your color cycles"
   ]
  },
  {
   "cell_type": "markdown",
   "metadata": {},
   "source": [
    "## Line plot"
   ]
  },
  {
   "cell_type": "code",
   "execution_count": null,
   "metadata": {},
   "outputs": [],
   "source": [
    "import numpy as np\n",
    "import proplot as plot\n",
    "\n",
    "# Your cycle or colormap name here!\n",
    "cycle = '538'\n",
    "\n",
    "# Plot data\n",
    "np.random.seed(12345)\n",
    "data = (np.random.rand(100,5) - 0.5).cumsum(axis=0)\n",
    "f, ax = plot.subplots()\n",
    "ax.plot(data, lw=3, cycle=cycle, labels=list('abcde'), legend='b')\n",
    "ax.format(suptitle='Line data', xlabel='xlabel', ylabel='ylabel')\n",
    "\n",
    "# Uncomment this to save your figure (feel free to rename it)\n",
    "# f.save('../figures/lines.png')"
   ]
  },
  {
   "cell_type": "markdown",
   "metadata": {},
   "source": [
    "## Scatter plot"
   ]
  },
  {
   "cell_type": "code",
   "execution_count": null,
   "metadata": {},
   "outputs": [],
   "source": [
    "import numpy as np\n",
    "import proplot as plot\n",
    "\n",
    "# Your cycle or colormap name here!\n",
    "cycle = 'qual1'\n",
    "\n",
    "# Plot data\n",
    "np.random.seed(12345)\n",
    "data = np.random.rand(20,6) + (np.random.rand(20,6) - 0.5).cumsum(axis=0)\n",
    "f, ax = plot.subplots()\n",
    "cycle = plot.Cycle(cycle, marker=['o','s','d','*','x','+'])\n",
    "ax.scatter(data, lw=0, size=50, cycle=cycle, labels=list('abcdef'), legend='b')\n",
    "ax.format(suptitle='Marker data', xlabel='x label', ylabel='y label')\n",
    "\n",
    "# Uncomment this to save your figure (feel free to rename it)\n",
    "# f.save('../figures/markers.png')"
   ]
  },
  {
   "cell_type": "markdown",
   "metadata": {},
   "source": [
    "## Bar plot"
   ]
  },
  {
   "cell_type": "code",
   "execution_count": null,
   "metadata": {},
   "outputs": [],
   "source": [
    "import numpy as np\n",
    "import proplot as plot\n",
    "\n",
    "# Your cycle or colormap name here!\n",
    "cycle = 'reds'\n",
    "\n",
    "# Plot data\n",
    "np.random.seed(12345)\n",
    "data = np.random.rand(5,6).cumsum(axis=0).cumsum(axis=1)[:,::-1]\n",
    "f, ax = plot.subplots(width=4, aspect=1.5)\n",
    "ax.bar(data, cycle=cycle, labels=list('abcdef'), legend='b')\n",
    "ax.format(suptitle='Bar data', xformatter=list('uvwxyz'), ylabel='y label')\n",
    "\n",
    "# Uncomment this to save your figure (feel free to rename it)\n",
    "# f.save('../figures/bars.png')"
   ]
  }
 ],
 "metadata": {
  "kernelspec": {
   "display_name": "Python 3",
   "language": "python",
   "name": "python3"
  },
  "language_info": {
   "codemirror_mode": {
    "name": "ipython",
    "version": 3
   },
   "file_extension": ".py",
   "mimetype": "text/x-python",
   "name": "python",
   "nbconvert_exporter": "python",
   "pygments_lexer": "ipython3",
   "version": "3.7.3"
  },
  "toc": {
   "base_numbering": 1,
   "nav_menu": {
    "height": "66px",
    "width": "252px"
   },
   "number_sections": true,
   "sideBar": true,
   "skip_h1_title": false,
   "title_cell": "Table of Contents",
   "title_sidebar": "Contents",
   "toc_cell": false,
   "toc_position": {},
   "toc_section_display": "block",
   "toc_window_display": true
  },
  "varInspector": {
   "cols": {
    "lenName": 16,
    "lenType": 16,
    "lenVar": 40
   },
   "kernels_config": {
    "python": {
     "delete_cmd_postfix": "",
     "delete_cmd_prefix": "del ",
     "library": "var_list.py",
     "varRefreshCmd": "print(var_dic_list())"
    },
    "r": {
     "delete_cmd_postfix": ") ",
     "delete_cmd_prefix": "rm(",
     "library": "var_list.r",
     "varRefreshCmd": "cat(var_dic_list()) "
    }
   },
   "types_to_exclude": [
    "module",
    "function",
    "builtin_function_or_method",
    "instance",
    "_Feature"
   ],
   "window_display": false
  }
 },
 "nbformat": 4,
 "nbformat_minor": 2
}
