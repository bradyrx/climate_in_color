{
 "cells": [
  {
   "cell_type": "markdown",
   "metadata": {},
   "source": [
    "# Links"
   ]
  },
  {
   "cell_type": "markdown",
   "metadata": {},
   "source": [
    "The following online GUI tools can be used to generate perceptually uniform colormaps.\n",
    "\n",
    "* [cmOcean](https://matplotlib.org/cmocean/)\n",
    "* [SciVisColor](https://sciviscolor.org/home/colormaps/)\n",
    "* [Fabio Crameri](http://www.fabiocrameri.ch/colourmaps.php)\n",
    "* [Chroma.js](https://gka.github.io/palettes/)\n",
    "* [Chroma.js fork](http://tristen.ca/hcl-picker/#/hlc/12/0.99/C6F67D/0B2026)\n",
    "* [HCLWizard](http://hclwizard.org:64230/hclwizard/)\n",
    "\n",
    "You can programatically generate perceptually uniform colormaps with [ProPlot](https://proplot.readthedocs.io/). Also, to make sure your colormaps are colorblind friendly, we recommend the [Color Oracle](https://colororacle.org) app."
   ]
  },
  {
   "cell_type": "markdown",
   "metadata": {},
   "source": [
    "# Create your own colormaps \n",
    "The below cell uses ProPlot to [register colormaps](https://proplot.readthedocs.io/en/latest/colors.html#adding-online-color-colormaps) using colormap data copied from online GUI tools."
   ]
  },
  {
   "cell_type": "code",
   "execution_count": null,
   "metadata": {},
   "outputs": [],
   "source": [
    "import os\n",
    "import proplot as plot\n",
    "\n",
    "\n",
    "# Paste a list of hex strings in the below string\n",
    "name = 'tmp'\n",
    "hexdata = \"\"\"\n",
    "#000000 #ffffff\n",
    "\"\"\"\n",
    "with open(os.path.expanduser(f'~/.proplot/cmaps/{name}.hex'), 'w') as f:\n",
    "    f.write(hexdata)\n",
    "    \n",
    "# Paste a 3-column table of RGB data in the below string\n",
    "name = 'tmp'\n",
    "rgbdata = \"\"\"\n",
    "0, 0, 0\n",
    "1, 1, 1\n",
    "\"\"\"\n",
    "with open(os.path.expanduser(f'~/.proplot/cmaps/{name}.rgb'), 'w') as f:\n",
    "    f.write(rgbdata)\n",
    "    \n",
    "# Paste a 4-column table of \"colormap coordintes\" and RGB data in the below string\n",
    "# This time the first column is a colormap coordinate\n",
    "name = 'tmp'\n",
    "xrgbdata = \"\"\"\n",
    "0, 0, 0, 0\n",
    "1, 1, 1, 1\n",
    "\"\"\"\n",
    "with open(os.path.expanduser(f'~/.proplot/cmaps/{name}.xrgb'), 'w') as f:\n",
    "    f.write(xrgbdata)\n",
    "    \n",
    "# Paste XML data in the below string\n",
    "# Some websites only save colormap data as XML strings\n",
    "name = 'tmp'\n",
    "xmldata = \"\"\"\n",
    "<ColorMap>\n",
    "  <Point x=\"0\" r=\"0\" g=\"0\" b=\"0\"/>\n",
    "  <Point x=\"1\" r=\"1\" g=\"1\" b=\"1\"/>\n",
    "</ColorMap>\n",
    "\"\"\"\n",
    "with open(os.path.expanduser(f'~/.proplot/cmaps/{name}.xml'), 'w') as f:\n",
    "    f.write(xmldata)\n",
    "    \n",
    "# Load new colormaps into ProPlot\n",
    "plot.register_cmaps()"
   ]
  },
  {
   "cell_type": "code",
   "execution_count": null,
   "metadata": {},
   "outputs": [],
   "source": [
    "import proplot as plot\n",
    "\n",
    "# Breakdown your colormap!\n",
    "cmap = 'tmp'\n",
    "f = plot.show_channels(cmap, rgb=False, scalings=False)\n",
    "\n",
    "# Save breakdown\n",
    "f.save(f'../figures/{cmap}_breakdown.png')"
   ]
  },
  {
   "cell_type": "markdown",
   "metadata": {},
   "source": [
    "# Try out your colormaps\n",
    "\n",
    "We've added a few observational datasets to the repository to try out your colormaps. Just replace the `cmap` variable(s) with the name of your colormap from above."
   ]
  },
  {
   "cell_type": "markdown",
   "metadata": {},
   "source": [
    "## Sequential Colormaps\n",
    "\n",
    "These examples anticipate a sequential colormap. They are mainly comprised of climatologies."
   ]
  },
  {
   "cell_type": "markdown",
   "metadata": {},
   "source": [
    "### Model Data\n",
    "\n",
    "Results from the Dry Dynamical Core model. This looks at Available Potential Energy (APE) and Eddy Kinetic Energy."
   ]
  },
  {
   "cell_type": "code",
   "execution_count": null,
   "metadata": {
    "ExecuteTime": {
     "end_time": "2019-10-21T16:07:24.893860Z",
     "start_time": "2019-10-21T16:07:23.112317Z"
    }
   },
   "outputs": [],
   "source": [
    "import proplot as plot\n",
    "import xarray as xr\n",
    "\n",
    "# Load data\n",
    "data = xr.open_dataset('../data/HS94.climate.d0500-d3500.nc',decode_times=False)\n",
    "data = xr.open_dataset('../data/HS94.climate.d0500-d3500.nc',decode_times=False)\n",
    "tvar = data['pe'].isel(lon=0, time=0)\n",
    "uvar = data['ke'].isel(lon=0, time=0)\n",
    "\n",
    "# Your colormaps here!\n",
    "cmap1 = 'stellar'\n",
    "cmap2 = 'sunset'\n",
    "\n",
    "# Plot data\n",
    "f, axs = plot.subplots(ncols=2, axwidth=3, span=False)\n",
    "\n",
    "N = 30 # number of levels\n",
    "axs[0].contourf(tvar, N=N, cmap=cmap1, colorbar='b')\n",
    "axs[1].contourf(uvar, N=N, cmap=cmap2, colorbar='b')\n",
    "\n",
    "axs.format(suptitle='Dry dynamical core energetics', yreverse=True)\n",
    "\n",
    "# Uncomment this to save your figure (feel free to rename it)\n",
    "# f.save('../figures/drycore.climo.png')"
   ]
  },
  {
   "cell_type": "markdown",
   "metadata": {},
   "source": [
    "### Oceanography Data\n",
    "\n",
    "1970-2010 Sea Surface Temperature (SST) climatology from the Hadley Center-NOAA/OI merged product [(link)](https://climatedataguide.ucar.edu/climate-data/merged-hadley-noaaoi-sea-surface-temperature-sea-ice-concentration-hurrell-et-al-2008)."
   ]
  },
  {
   "cell_type": "code",
   "execution_count": null,
   "metadata": {
    "ExecuteTime": {
     "end_time": "2019-10-21T16:08:28.984699Z",
     "start_time": "2019-10-21T16:08:27.791293Z"
    }
   },
   "outputs": [],
   "source": [
    "import proplot as plot\n",
    "import xarray as xr\n",
    "import proplot as plot\n",
    "plot.rc.small = 12\n",
    "plot.rc.large = 12\n",
    "\n",
    "# Load data\n",
    "SST = xr.open_dataarray('../data/SST.HadNOAA.1970-2010.1deg.nc')\n",
    "\n",
    "# Your colormap here!\n",
    "cmap = 'Fire'\n",
    "\n",
    "# Plot data\n",
    "f, ax = plot.subplots(proj='eqearth', axwidth='12cm')\n",
    "p = ax.contourf(SST.lon, SST.lat, SST, levels=plot.arange(-2, 30, 2), cmap=cmap, globe=True)\n",
    "f.colorbar(p, loc='b', ticks=plot.arange(-2, 30, 2), label='temperature [$^{o}$C]')\n",
    "ax.format(land=True, title='Sea Surface Temperature Climatology')\n",
    "\n",
    "# Uncomment this to save your figure (feel free to rename it)\n",
    "# f.save('../figures/SST.climatology.png')"
   ]
  },
  {
   "cell_type": "markdown",
   "metadata": {},
   "source": [
    "### Atmospheric Data\n",
    "\n",
    "500hPa Geopotential Height and Specific Humidity from January 1st 2018 for the [ERA5 product](https://www.ecmwf.int/en/forecasts/datasets/reanalysis-datasets/era5)."
   ]
  },
  {
   "cell_type": "code",
   "execution_count": null,
   "metadata": {},
   "outputs": [],
   "source": [
    "import proplot as plot\n",
    "import xarray as xr\n",
    "\n",
    "# Load data\n",
    "sel = {'time':0, 'longitude':slice(None,None,10), 'latitude':slice(None,None,10)}\n",
    "data = xr.open_dataset('../data/ERA5.500mb.2018-01-01.nc')\n",
    "cdict = {'latitude':7, 'longitude':7}\n",
    "cc = (data['q'].isel(time=0)*1000).coarsen(cdict, boundary='trim').mean()\n",
    "geo = (data['z'].isel(time=0)/1e3/9.81).coarsen(cdict, boundary='trim').mean()\n",
    "cc.attrs.update({'units':'g kg**-1', 'long_name':'specific humidity'})\n",
    "geo.attrs.update({'units':'m', 'long_name':'geopotential height'})\n",
    "\n",
    "# Your colormaps here!\n",
    "cmap1 = 'Rocket'\n",
    "cmap2 = 'Mako'\n",
    "\n",
    "# Plot data\n",
    "N = 30\n",
    "f, axs = plot.subplots(nrows=2, proj='hammer', axwidth=4.5)\n",
    "axs[0].contourf(geo, cmap=cmap1, N=N, colorbar='b', extend='both', globe=True)\n",
    "axs[1].contourf(cc, vmin=0, vmax=5, cmap=cmap2, N=N, colorbar='b', extend='both', globe=True)\n",
    "axs.format(suptitle='January 1 00:00UTC 500hPa fields')\n",
    "\n",
    "# Uncomment this to save your figure (feel free to rename it)\n",
    "# f.save('../figures/500mb.png')"
   ]
  },
  {
   "cell_type": "markdown",
   "metadata": {},
   "source": [
    "### Sea Ice Data\n",
    "\n",
    "Sea ice thickness for Feb-Mar and Oct-Nov in the northern and southern hemispheres from [ICESat](https://nsidc.org/data/NSIDC-0393) averaged over the satellite coverage period."
   ]
  },
  {
   "cell_type": "code",
   "execution_count": null,
   "metadata": {
    "ExecuteTime": {
     "end_time": "2019-10-21T16:10:36.852717Z",
     "start_time": "2019-10-21T16:10:36.781502Z"
    }
   },
   "outputs": [],
   "source": [
    "import xarray as xr\n",
    "\n",
    "# Load sea ice data\n",
    "ice_data = []\n",
    "for hemisphere, season in zip(['NH', 'NH', 'SH', 'SH'], \n",
    "                              ['fm', 'on', 'fm', 'on']):\n",
    "    filepath = f'../data/ICESat_gridded_mean_thickness_{hemisphere}_{season}.interp0.5x0.5.nc'\n",
    "    sea_ice = xr.open_dataset(filepath)\n",
    "    ice_data.append(sea_ice)\n",
    "ice_data = xr.concat(ice_data, 'location')\n",
    "ice_data['location'] = ['NH_fm', 'NH_on', 'SH_fm', 'SH_on']\n",
    "\n",
    "# Coarsen to a 1x1 degree grid.\n",
    "lat = ice_data['t_lat'].coarsen({'t_lat': 2, 't_lon': 2}).mean()\n",
    "lon = ice_data['t_lon'].coarsen({'t_lat': 2, 't_lon': 2}).mean()\n",
    "ice_thk = ice_data['HI'].reset_coords(drop=True).coarsen({'t_lat': 2, 't_lon': 2}).mean()"
   ]
  },
  {
   "cell_type": "code",
   "execution_count": null,
   "metadata": {
    "ExecuteTime": {
     "end_time": "2019-10-21T16:10:40.868469Z",
     "start_time": "2019-10-21T16:10:37.812395Z"
    }
   },
   "outputs": [],
   "source": [
    "import proplot as plot\n",
    "\n",
    "# Your colormap here!\n",
    "cmap = 'Glacial'\n",
    "\n",
    "# Plot data\n",
    "f, axs = plot.subplots(ncols=2, proj='npstere', axwidth='6cm')\n",
    "for i, label in zip([0, 1], ['NH Feb-Mar', 'NH Oct-Nov']):\n",
    "    p = axs[i].contourf(lon, lat, ice_thk.isel(location=i), cmap=cmap,\n",
    "                    levels=plot.arange(0, 5, 0.25))\n",
    "    axs[i].format(land=True, boundinglat=60, latlines=10, title=label)\n",
    "\n",
    "f.colorbar(p, loc='b', label='Sea Ice Thickness [m]',\n",
    "           ticks=plot.arange(0, 5, 0.5))\n",
    "\n",
    "# Uncomment this to save your figure (feel free to rename it)\n",
    "# f.save('../figures/NH.sea.ice.png')"
   ]
  },
  {
   "cell_type": "code",
   "execution_count": null,
   "metadata": {
    "ExecuteTime": {
     "end_time": "2019-10-21T16:10:44.995418Z",
     "start_time": "2019-10-21T16:10:43.212249Z"
    }
   },
   "outputs": [],
   "source": [
    "import proplot as plot\n",
    "plot.rc.small = 12\n",
    "plot.rc.large = 12\n",
    "\n",
    "# Your colormap here!\n",
    "cmap = 'Glacial'\n",
    "\n",
    "# Plot data\n",
    "f, axs = plot.subplots(ncols=2, proj='spstere', axwidth='6cm')\n",
    "for i, label in zip([0, 1], ['SH Feb-Mar', 'NH Oct-Nov']):\n",
    "    p = axs[i].contourf(lon, lat, ice_thk.isel(location=i+2), cmap=cmap,\n",
    "                    levels=plot.arange(0, 2, 0.1))\n",
    "    axs[i].format(land=True, boundinglat=-50, latlines=10, title=label)\n",
    "\n",
    "f.colorbar(p, loc='b', label='Sea Ice Thickness [m]',\n",
    "           ticks=plot.arange(0, 2, 0.2))\n",
    "\n",
    "# Uncomment this to save your figure (feel free to rename it)\n",
    "# f.save('../figures/SH.sea.ice.png')"
   ]
  },
  {
   "cell_type": "markdown",
   "metadata": {},
   "source": [
    "## Diverging Colormaps\n",
    "\n",
    "These examples anticipate a diverging colormap. They are mainly comprised of anomalies. "
   ]
  },
  {
   "cell_type": "markdown",
   "metadata": {},
   "source": [
    "### Precipitation Change in SSP585\n",
    "\n",
    "Change in precipitation for a single CESM2 ensemble member from CMIP6 over the SSP585 scenario (analogous to the RCP8.5 scenario from CMIP5). Here we subtract the 1970-2000 climatology from the 2070-2100 climatology."
   ]
  },
  {
   "cell_type": "code",
   "execution_count": null,
   "metadata": {
    "ExecuteTime": {
     "end_time": "2019-10-21T16:11:46.492200Z",
     "start_time": "2019-10-21T16:11:44.971949Z"
    }
   },
   "outputs": [],
   "source": [
    "import xarray as xr\n",
    "import proplot as plot\n",
    "\n",
    "# Load data\n",
    "delta_rain = xr.open_dataarray('../data/CESM2_delta_precip_2070-2100_1970-2000.nc')\n",
    "\n",
    "# Your colormap here!\n",
    "cmap = 'Moisture'\n",
    "\n",
    "# Plot data\n",
    "f, ax = plot.subplots(proj='eck3', proj_kw={'central_longitude': 180}, axwidth='10cm')\n",
    "\n",
    "p = ax.contourf(delta_rain.lon, delta_rain.lat, delta_rain, \n",
    "            levels=plot.arange(-4, 4, 0.5), cmap=cmap,\n",
    "            extend='both')\n",
    "\n",
    "f.colorbar(p, loc='b', label='$\\Delta$ precipitation [mm day$^{-1}$]',\n",
    "           ticks=plot.arange(-4, 4, 1))\n",
    "\n",
    "ax.format(coast=True, title='Change in Precip. in CESM2 SSP585 \\n [2070-2100 - 1970-2000]')\n",
    "\n",
    "# Uncomment this to save your figure (feel free to rename it)\n",
    "# f.save('../figures/delta_precip.png')"
   ]
  },
  {
   "cell_type": "markdown",
   "metadata": {},
   "source": [
    "### Global Regression of SSTs onto ENSO\n",
    "\n",
    "Regression of global SSTs for a single CESM1 Large Ensemble member onto the Nino 3.4 index for the member. This shows the response of SSTs to a 1-degree El Niño."
   ]
  },
  {
   "cell_type": "code",
   "execution_count": null,
   "metadata": {
    "ExecuteTime": {
     "end_time": "2019-10-21T16:12:59.951942Z",
     "start_time": "2019-10-21T16:12:58.147279Z"
    }
   },
   "outputs": [],
   "source": [
    "import xarray as xr\n",
    "import proplot as plot\n",
    "\n",
    "# Load data\n",
    "enso_response = xr.open_dataarray('../data/SST_ENSO_response.nc')\n",
    "\n",
    "# Your colormap here!\n",
    "cmap = 'BuRd'\n",
    "\n",
    "# Plot data\n",
    "f, ax = plot.subplots(proj='eck3', \n",
    "                      proj_kw={'central_longitude': 180}, \n",
    "                      axwidth='12cm')\n",
    "\n",
    "p = ax.contourf(enso_response.TLONG, enso_response.TLAT, enso_response, \n",
    "            levels=plot.arange(-0.8, 0.8, 0.05), cmap=cmap,\n",
    "            extend='both')\n",
    "\n",
    "f.colorbar(p, loc='b', label='degC',\n",
    "           ticks=plot.arange(-0.8, 0.8, 0.2))\n",
    "\n",
    "ax.format(land=True, \n",
    "          title='Global Sea Surface Temperature Response to 1$^{o}$ El Ni$\\~n$o')\n",
    "\n",
    "# Uncomment this to save your figure (feel free to rename it)\n",
    "# f.savefig('../figures/enso_response.png')"
   ]
  }
 ],
 "metadata": {
  "kernelspec": {
   "display_name": "Python 3",
   "language": "python",
   "name": "python3"
  },
  "language_info": {
   "codemirror_mode": {
    "name": "ipython",
    "version": 3
   },
   "file_extension": ".py",
   "mimetype": "text/x-python",
   "name": "python",
   "nbconvert_exporter": "python",
   "pygments_lexer": "ipython3",
   "version": "3.7.3"
  },
  "toc": {
   "base_numbering": 1,
   "nav_menu": {},
   "number_sections": true,
   "sideBar": true,
   "skip_h1_title": false,
   "title_cell": "Table of Contents",
   "title_sidebar": "Contents",
   "toc_cell": false,
   "toc_position": {},
   "toc_section_display": true,
   "toc_window_display": false
  },
  "varInspector": {
   "cols": {
    "lenName": 16,
    "lenType": 16,
    "lenVar": 40
   },
   "kernels_config": {
    "python": {
     "delete_cmd_postfix": "",
     "delete_cmd_prefix": "del ",
     "library": "var_list.py",
     "varRefreshCmd": "print(var_dic_list())"
    },
    "r": {
     "delete_cmd_postfix": ") ",
     "delete_cmd_prefix": "rm(",
     "library": "var_list.r",
     "varRefreshCmd": "cat(var_dic_list()) "
    }
   },
   "types_to_exclude": [
    "module",
    "function",
    "builtin_function_or_method",
    "instance",
    "_Feature"
   ],
   "window_display": false
  }
 },
 "nbformat": 4,
 "nbformat_minor": 2
}
