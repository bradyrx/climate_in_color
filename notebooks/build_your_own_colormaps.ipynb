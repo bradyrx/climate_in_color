{
 "cells": [
  {
   "cell_type": "markdown",
   "metadata": {},
   "source": [
    "# Links"
   ]
  },
  {
   "cell_type": "markdown",
   "metadata": {},
   "source": [
    "A *colormap* is a palette constructed by sampling some *smooth, linear* function between two end colors. Colormaps are generally used for 2-D or 3-D plots, where the color serves as an extra \\\"dimension\\\". This is implemented in matplotlib with the [LinearSegmentedColormap](https://matplotlib.org/3.1.1/api/_as_gen/matplotlib.colors.LinearSegmentedColormap.html), and also with the special ProPlot [PerceptuallyUniformColormap](https://proplot.readthedocs.io/en/latest/api/proplot.styletools.PerceptuallyUniformColormap.html#proplot.styletools.PerceptuallyUniformColormap) class. Use this notebook to experiment with different colormaps on sample datasets.\n",
    "\n",
    "The following online GUI tools can be used to generate perceptually uniform colormaps.\n",
    "\n",
    "* [cmOcean](https://matplotlib.org/cmocean/)\n",
    "* [SciVisColor](https://sciviscolor.org/home/colormaps/)\n",
    "* [Fabio Crameri](http://www.fabiocrameri.ch/colourmaps.php)\n",
    "* [Chroma.js](https://gka.github.io/palettes/)\n",
    "* [Chroma.js fork](http://tristen.ca/hcl-picker/#/hlc/12/0.99/C6F67D/0B2026)\n",
    "* [HCLWizard](http://hclwizard.org:64230/hclwizard/)\n",
    "\n",
    "You can also programatically generate perceptually uniform colormaps with [ProPlot](https://proplot.readthedocs.io/)."
   ]
  },
  {
   "cell_type": "markdown",
   "metadata": {},
   "source": [
    "# Colorblind friendly\n",
    "Something we didn't get into -- you generally want your colormaps to be colorblind friendly. A great tool for testing this is the [Color Oracle](https://colororacle.org) app. In the future, you may also be able to use ProPlot to test the colorblind-friendliness of colormaps."
   ]
  },
  {
   "cell_type": "markdown",
   "metadata": {},
   "source": [
    "# Online colormaps \n",
    "The below cell uses ProPlot to [register colormaps](https://proplot.readthedocs.io/en/latest/colors.html#adding-online-color-colormaps) online. Try plotting some sample data with them!"
   ]
  },
  {
   "cell_type": "code",
   "execution_count": null,
   "metadata": {
    "ExecuteTime": {
     "end_time": "2019-10-21T15:25:33.534844Z",
     "start_time": "2019-10-21T15:25:29.605457Z"
    }
   },
   "outputs": [],
   "source": [
    "import os\n",
    "import proplot as plot\n",
    "\n",
    "\n",
    "# Paste a list of hex strings in the below string\n",
    "name = 'tmp'\n",
    "hexdata = \"\"\"\n",
    "#000000 #ffffff\n",
    "\"\"\"\n",
    "with open(os.path.expanduser(f'~/.proplot/cmaps/{name}.hex'), 'w') as f:\n",
    "    f.write(hexdata)\n",
    "    \n",
    "# Paste a 3-column table of RGB data in the below string\n",
    "name = 'tmp'\n",
    "rgbdata = \"\"\"\n",
    "0, 0, 0\n",
    "1, 1, 1\n",
    "\"\"\"\n",
    "with open(os.path.expanduser(f'~/.proplot/cmaps/{name}.rgb'), 'w') as f:\n",
    "    f.write(rgbdata)\n",
    "    \n",
    "# Paste a 4-column table of \"colormap coordintes\" and RGB data in the below string\n",
    "# This time the first column is a colormap coordinate\n",
    "name = 'tmp'\n",
    "xrgbdata = \"\"\"\n",
    "0, 0, 0, 0\n",
    "1, 1, 1, 1\n",
    "\"\"\"\n",
    "with open(os.path.expanduser(f'~/.proplot/cmaps/{name}.xrgb'), 'w') as f:\n",
    "    f.write(xrgbdata)\n",
    "    \n",
    "# Paste XML data in the below string\n",
    "# Some websites only save colormap data as XML strings\n",
    "name = 'tmp'\n",
    "xmldata = \"\"\"\n",
    "<ColorMap>\n",
    "  <Point x=\"0\" r=\"0\" g=\"0\" b=\"0\"/>\n",
    "  <Point x=\"1\" r=\"1\" g=\"1\" b=\"1\"/>\n",
    "</ColorMap>\n",
    "\"\"\"\n",
    "with open(os.path.expanduser(f'~/.proplot/cmaps/{name}.xml'), 'w') as f:\n",
    "    f.write(xmldata)\n",
    "    \n",
    "# Load new colormaps into ProPlot\n",
    "plot.register_cmaps()"
   ]
  },
  {
   "cell_type": "code",
   "execution_count": null,
   "metadata": {
    "ExecuteTime": {
     "end_time": "2019-10-21T15:25:35.506845Z",
     "start_time": "2019-10-21T15:25:34.334772Z"
    }
   },
   "outputs": [],
   "source": [
    "# Breakdown of your colormap\n",
    "f = plot.show_channels('tmp', rgb=False, scalings=False)"
   ]
  },
  {
   "cell_type": "markdown",
   "metadata": {},
   "source": [
    "# Try out your colormaps\n",
    "\n",
    "We've added a few observational datasets to the repository to try out your colormaps. Just replace the `cmap=...` with the name of your colormap from above."
   ]
  },
  {
   "cell_type": "markdown",
   "metadata": {},
   "source": [
    "## Sequential Colormaps\n",
    "\n",
    "These examples anticipate a sequential colormap. They are mainly comprised of climatologies."
   ]
  },
  {
   "cell_type": "markdown",
   "metadata": {},
   "source": [
    "### Model Data"
   ]
  },
  {
   "cell_type": "code",
   "execution_count": null,
   "metadata": {
    "ExecuteTime": {
     "end_time": "2019-10-21T15:25:44.557127Z",
     "start_time": "2019-10-21T15:25:42.739802Z"
    }
   },
   "outputs": [],
   "source": [
    "import proplot as plot\n",
    "import xarray as xr\n",
    "\n",
    "# Your colormaps here!\n",
    "cmap1 = 'stellar'\n",
    "cmap2 = 'sunset'\n",
    "\n",
    "# Plot model data\n",
    "data = xr.open_dataset('../data/HS94.climate.d0500-d3500.nc',decode_times=False)\n",
    "data = xr.open_dataset('../data/HS94.climate.d0500-d3500.nc',decode_times=False)\n",
    "tvar = data['tvar'].isel(lon=0, time=0)\n",
    "uvar = data['uvar'].isel(lon=0, time=0)\n",
    "\n",
    "f, axs = plot.subplots(ncols=2, axwidth=3, span=False)\n",
    "\n",
    "N = 30 # number of levels\n",
    "axs[0].contourf(tvar, N=N, cmap=cmap1, colorbar='b')\n",
    "axs[1].contourf(uvar, N=N, cmap=cmap2, colorbar='b')\n",
    "\n",
    "axs.format(suptitle='Dry dynamical core climatology', yreverse=True)"
   ]
  },
  {
   "cell_type": "markdown",
   "metadata": {},
   "source": [
    "### Oceanography Data (Sea Surface Temperatures)"
   ]
  },
  {
   "cell_type": "code",
   "execution_count": null,
   "metadata": {
    "ExecuteTime": {
     "end_time": "2019-10-21T15:25:48.342182Z",
     "start_time": "2019-10-21T15:25:46.700765Z"
    }
   },
   "outputs": [],
   "source": [
    "import proplot as plot\n",
    "import xarray as xr\n",
    "import proplot as plot\n",
    "plot.rc.small = 12\n",
    "plot.rc.large = 12\n",
    "\n",
    "SST = xr.open_dataarray('../data/SST.HadNOAA.1970-2010.1deg.nc')\n",
    "\n",
    "f, ax = plot.subplots(proj='eqearth', axwidth='12cm')\n",
    "\n",
    "# Your colormap here!\n",
    "cmap = 'Fire'\n",
    "p = ax.contourf(SST.lon, SST.lat, SST, levels=plot.arange(-2, 30, 2), cmap=cmap)\n",
    "\n",
    "f.colorbar(p, loc='b', ticks=plot.arange(-2, 30, 2),\n",
    "           label='temperature [$^{o}$C]')\n",
    "\n",
    "ax.format(land=True, title='Sea Surface Temperature Climatology')\n",
    "\n",
    "# Uncomment this to save your figure. Feel free to rename it.\n",
    "# f.savefig('../figures/SST.climatology.png')"
   ]
  },
  {
   "cell_type": "markdown",
   "metadata": {},
   "source": [
    "### Atmospheric Data"
   ]
  },
  {
   "cell_type": "code",
   "execution_count": null,
   "metadata": {},
   "outputs": [],
   "source": [
    "import proplot as plot\n",
    "import xarray as xr\n",
    "\n",
    "sel = {'time':0, 'longitude':slice(None,None,10), 'latitude':slice(None,None,10)}\n",
    "data = xr.open_dataset('../data/ERA5.500mb.2018-01-01.nc')\n",
    "vor = data['pv'].isel(**sel)*1e6\n",
    "vor.attrs.update({'units':'PVU', 'long_name':'potential vorticity'})\n",
    "geo = data['z'].isel(**sel)/1e3/9.81\n",
    "geo.attrs.update({'units':'m', 'long_name':'geopotential height'})\n",
    "\n",
    "# Your colormap here!\n",
    "cmap1 = 'BuRd'\n",
    "cmap2 = 'Rocket'\n",
    "\n",
    "N = 30\n",
    "f, axs = plot.subplots(nrows=2, proj='hammer', axwidth=4.5)\n",
    "axs[0].contourf(vor, vmin=-2, vmax=2, cmap=cmap1, N=N, colorbar='b', extend='both', globe=True)\n",
    "axs[1].contourf(geo, cmap=cmap2, N=N, colorbar='b', extend='both', globe=True)\n",
    "axs.format(suptitle='January 1 00:00UTC 500hPa fields')"
   ]
  },
  {
   "cell_type": "markdown",
   "metadata": {},
   "source": [
    "### Sea Ice Data"
   ]
  },
  {
   "cell_type": "code",
   "execution_count": null,
   "metadata": {},
   "outputs": [],
   "source": [
    "import xarray as xr\n",
    "\n",
    "# Plot sea ice data\n",
    "ice_data = []\n",
    "for hemisphere, season in zip(['NH', 'NH', 'SH', 'SH'], \n",
    "                              ['fm', 'on', 'fm', 'on']):\n",
    "    filepath = f'../data/ICESat_gridded_mean_thickness_{hemisphere}_{season}.interp0.5x0.5.nc'\n",
    "    sea_ice = xr.open_dataset(filepath)\n",
    "    ice_data.append(sea_ice)\n",
    "ice_data = xr.concat(ice_data, 'location')\n",
    "ice_data['location'] = ['NH_fm', 'NH_on', 'SH_fm', 'SH_on']\n",
    "\n",
    "# Coarsen to a 1x1 degree grid.\n",
    "lat = ice_data['t_lat'].coarsen({'t_lat': 2, 't_lon': 2}).mean()\n",
    "lon = ice_data['t_lon'].coarsen({'t_lat': 2, 't_lon': 2}).mean()\n",
    "ice_thk = ice_data['HI'].reset_coords(drop=True).coarsen({'t_lat': 2, 't_lon': 2}).mean()"
   ]
  },
  {
   "cell_type": "code",
   "execution_count": null,
   "metadata": {},
   "outputs": [],
   "source": [
    "import proplot as plot\n",
    "plot.rc.small = 12\n",
    "plot.rc.large = 12\n",
    "\n",
    "f, axs = plot.subplots(ncols=2, proj='npstere', axwidth='6cm')\n",
    "\n",
    "# Your colormap here!\n",
    "cmap = 'Glacial'\n",
    "for i, label in zip([0, 1], ['NH Feb-Mar', 'NH Oct-Nov']):\n",
    "    p = axs[i].contourf(lon, lat, ice_thk.isel(location=i), cmap=cmap,\n",
    "                    levels=plot.arange(0, 5, 0.25))\n",
    "    axs[i].format(land=True, boundinglat=60, latlines=10, title=label)\n",
    "\n",
    "f.colorbar(p, loc='b', label='Sea Ice Thickness [m]',\n",
    "           ticks=plot.arange(0, 5, 0.5))\n",
    "\n",
    "# Uncomment this to save your figure. Feel free to rename it.\n",
    "# f.savefig('../figures/NP.sea.ice.png')"
   ]
  },
  {
   "cell_type": "code",
   "execution_count": null,
   "metadata": {},
   "outputs": [],
   "source": [
    "import proplot as plot\n",
    "plot.rc.small = 12\n",
    "plot.rc.large = 12\n",
    "\n",
    "f, axs = plot.subplots(ncols=2, proj='spstere', axwidth='6cm')\n",
    "\n",
    "# Your colormap here!\n",
    "cmap = 'Glacial'\n",
    "for i, label in zip([0, 1], ['SH Feb-Mar', 'NH Oct-Nov']):\n",
    "    p = axs[i].contourf(lon, lat, ice_thk.isel(location=i+2), cmap=cmap,\n",
    "                    levels=plot.arange(0, 2, 0.1))\n",
    "    axs[i].format(land=True, boundinglat=-50, latlines=10, title=label)\n",
    "\n",
    "f.colorbar(p, loc='b', label='Sea Ice Thickness [m]',\n",
    "           ticks=plot.arange(0, 2, 0.2))\n",
    "\n",
    "# Uncomment this to save your figure. Feel free to rename it.\n",
    "# f.savefig('../figures/SH.sea.ice.png')"
   ]
  },
  {
   "cell_type": "markdown",
   "metadata": {},
   "source": [
    "## Diverging Colormaps\n",
    "\n",
    "These examples anticipate a diverging colormap. They are mainly comprised of anomalies. "
   ]
  },
  {
   "cell_type": "markdown",
   "metadata": {},
   "source": [
    "### Precipitation Change in SSP585"
   ]
  },
  {
   "cell_type": "code",
   "execution_count": null,
   "metadata": {},
   "outputs": [],
   "source": [
    "import xarray as xr\n",
    "import proplot as plot\n",
    "plot.rc.small = 12\n",
    "plot.rc.large = 12\n",
    "\n",
    "delta_rain = xr.open_dataarray('../data/CESM2_delta_precip_2070-2100_1970-2000.nc')\n",
    "\n",
    "f, ax = plot.subplots(proj='eck3', proj_kw={'central_longitude': 180}, axwidth='10cm')\n",
    "\n",
    "p = ax.contourf(delta_rain.lon, delta_rain.lat, delta_rain, \n",
    "            levels=plot.arange(-4, 4, 0.5), cmap='Moisture',\n",
    "            extend='both')\n",
    "\n",
    "f.colorbar(p, loc='b', label='$\\Delta$ precipitation [mm day$^{-1}$]',\n",
    "           ticks=plot.arange(-4, 4, 1))\n",
    "\n",
    "ax.format(land=True, \n",
    "          title='Change in Precip. in CESM2 SSP585 \\n [2070-2100 - 1970-2000]')\n",
    "\n",
    "# Uncomment this to save your figure. Feel free to rename it.\n",
    "# f.savefig('../figures/delta_precip.png')"
   ]
  },
  {
   "cell_type": "markdown",
   "metadata": {},
   "source": [
    "### Global Regression of SSTs onto ENSO"
   ]
  },
  {
   "cell_type": "code",
   "execution_count": 9,
   "metadata": {
    "ExecuteTime": {
     "end_time": "2019-10-21T15:39:28.469481Z",
     "start_time": "2019-10-21T15:39:27.096928Z"
    }
   },
   "outputs": [
    {
     "data": {
      "image/png": "[encoded data removed]",
      "text/plain": [
       "<Figure size 369.256x274.672 with 3 Axes>"
      ]
     },
     "metadata": {
      "needs_background": "light"
     },
     "output_type": "display_data"
    }
   ],
   "source": [
    "%matplotlib inline\n",
    "import xarray as xr\n",
    "import proplot as plot\n",
    "plot.rc.small = 14\n",
    "plot.rc.large = 14\n",
    "\n",
    "enso_response = xr.open_dataarray('../data/SST_ENSO_response.nc')\n",
    "f, ax = plot.subplots(proj='eck3', \n",
    "                      proj_kw={'central_longitude': 180}, \n",
    "                      axwidth='12cm')\n",
    "\n",
    "p = ax.contourf(enso_response.TLONG, enso_response.TLAT, enso_response, \n",
    "            levels=plot.arange(-1, 1, 0.1), cmap='RdBu_r',\n",
    "            extend='both')\n",
    "\n",
    "f.colorbar(p, loc='b', label='degC',\n",
    "           ticks=plot.arange(-1, 1, 0.2))\n",
    "\n",
    "ax.format(land=True, \n",
    "          title='Global Sea Surface Temperature Response to 1$^{o}$ El Ni$\\~n$o')\n",
    "\n",
    "# Uncomment this to save your figure. Feel free to rename it.\n",
    "# f.savefig('../figures/enso_response.png')"
   ]
  }
 ],
 "metadata": {
  "kernelspec": {
   "display_name": "Python 3",
   "language": "python",
   "name": "python3"
  },
  "language_info": {
   "codemirror_mode": {
    "name": "ipython",
    "version": 3
   },
   "file_extension": ".py",
   "mimetype": "text/x-python",
   "name": "python",
   "nbconvert_exporter": "python",
   "pygments_lexer": "ipython3",
   "version": "3.7.3"
  },
  "toc": {
   "base_numbering": 1,
   "nav_menu": {},
   "number_sections": true,
   "sideBar": true,
   "skip_h1_title": false,
   "title_cell": "Table of Contents",
   "title_sidebar": "Contents",
   "toc_cell": false,
   "toc_position": {},
   "toc_section_display": true,
   "toc_window_display": false
  },
  "varInspector": {
   "cols": {
    "lenName": 16,
    "lenType": 16,
    "lenVar": 40
   },
   "kernels_config": {
    "python": {
     "delete_cmd_postfix": "",
     "delete_cmd_prefix": "del ",
     "library": "var_list.py",
     "varRefreshCmd": "print(var_dic_list())"
    },
    "r": {
     "delete_cmd_postfix": ") ",
     "delete_cmd_prefix": "rm(",
     "library": "var_list.r",
     "varRefreshCmd": "cat(var_dic_list()) "
    }
   },
   "types_to_exclude": [
    "module",
    "function",
    "builtin_function_or_method",
    "instance",
    "_Feature"
   ],
   "window_display": false
  }
 },
 "nbformat": 4,
 "nbformat_minor": 2
}
