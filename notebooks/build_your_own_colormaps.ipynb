{
 "cells": [
  {
   "cell_type": "markdown",
   "metadata": {},
   "source": [
    "# Links"
   ]
  },
  {
   "cell_type": "markdown",
   "metadata": {},
   "source": [
    "A *colormap* is a palette constructed by sampling some *smooth, linear* function between two end colors. Colormaps are generally used for 2-D or 3-D plots, where the color serves as an extra \\\"dimension\\\". This is implemented in matplotlib with the [LinearSegmentedColormap](https://matplotlib.org/3.1.1/api/_as_gen/matplotlib.colors.LinearSegmentedColormap.html), and also with the special ProPlot [PerceptuallyUniformColormap](https://proplot.readthedocs.io/en/latest/api/proplot.styletools.PerceptuallyUniformColormap.html#proplot.styletools.PerceptuallyUniformColormap) class. Use this notebook to experiment with different colormaps on sample datasets.\n",
    "\n",
    "The following online GUI tools can be used to generate perceptually uniform colormaps.\n",
    "\n",
    "* [cmOcean](https://matplotlib.org/cmocean/)\n",
    "* [SciVisColor](https://sciviscolor.org/home/colormaps/)\n",
    "* [Fabio Crameri](http://www.fabiocrameri.ch/colourmaps.php)\n",
    "* [Chroma.js](https://gka.github.io/palettes/)\n",
    "* [Chroma.js fork](http://tristen.ca/hcl-picker/#/hlc/12/0.99/C6F67D/0B2026)\n",
    "* [HCLWizard](http://hclwizard.org:64230/hclwizard/)\n",
    "\n",
    "You can also programatically generate perceptually uniform colormaps with [ProPlot](https://proplot.readthedocs.io/)."
   ]
  },
  {
   "cell_type": "markdown",
   "metadata": {},
   "source": [
    "# Colorblind friendly\n",
    "Something we didn't get into -- you generally want your colormaps to be colorblind friendly. A great tool for testing this is the [Color Oracle](https://colororacle.org) app. In the future, you may also be able to use ProPlot to test the colorblind-friendliness of colormaps."
   ]
  },
  {
   "cell_type": "markdown",
   "metadata": {},
   "source": [
    "# Online colormaps \n",
    "The below cell uses ProPlot to [register colormaps](https://proplot.readthedocs.io/en/latest/colors.html#adding-online-color-colormaps) online. Try plotting some sample data with them!"
   ]
  },
  {
   "cell_type": "code",
   "execution_count": 2,
   "metadata": {},
   "outputs": [],
   "source": [
    "import os\n",
    "import proplot as plot\n",
    "\n",
    "# Paste a list of hex strings in the below string\n",
    "name = 'tmp'\n",
    "hexdata = \"\"\"\n",
    "#000000 #ffffff\n",
    "\"\"\"\n",
    "with open(os.path.expanduser(f'~/.proplot/cmaps/{name}.hex'), 'w') as f:\n",
    "    f.write(hexdata)\n",
    "    \n",
    "# Paste a 3-column table of RGB data in the below string\n",
    "name = 'tmp'\n",
    "rgbdata = \"\"\"\n",
    "0, 0, 0\n",
    "1, 1, 1\n",
    "\"\"\"\n",
    "with open(os.path.expanduser(f'~/.proplot/cmaps/{name}.rgb'), 'w') as f:\n",
    "    f.write(rgbdata)\n",
    "    \n",
    "# Paste a 4-column table of \"colormap coordintes\" and RGB data in the below string\n",
    "# This time the first column is a colormap coordinate\n",
    "name = 'tmp'\n",
    "xrgbdata = \"\"\"\n",
    "0, 0, 0, 0\n",
    "1, 1, 1, 1\n",
    "\"\"\"\n",
    "with open(os.path.expanduser(f'~/.proplot/cmaps/{name}.xrgb'), 'w') as f:\n",
    "    f.write(xrgbdata)\n",
    "    \n",
    "# Paste XML data in the below string\n",
    "# Some websites only save colormap data as XML strings\n",
    "name = 'tmp'\n",
    "xmldata = \"\"\"\n",
    "<ColorMap>\n",
    "  <Point x=\"0\" r=\"0\" g=\"0\" b=\"0\"/>\n",
    "  <Point x=\"1\" r=\"1\" g=\"1\" b=\"1\"/>\n",
    "</ColorMap>\n",
    "\"\"\"\n",
    "with open(os.path.expanduser(f'~/.proplot/cmaps/{name}.xml'), 'w') as f:\n",
    "    f.write(xmldata)\n",
    "    \n",
    "# Load new colormaps into ProPlot\n",
    "plot.register_cmaps()"
   ]
  },
  {
   "cell_type": "code",
   "execution_count": null,
   "metadata": {},
   "outputs": [],
   "source": [
    "# Breakdown of your colormap\n"
   ]
  },
  {
   "cell_type": "markdown",
   "metadata": {},
   "source": [
    "# ProPlot colormaps\n",
    "\n",
    "The below cells use ProPlot to design custom colormaps using some helper functions."
   ]
  },
  {
   "cell_type": "code",
   "execution_count": 16,
   "metadata": {},
   "outputs": [
    {
     "data": {
      "text/plain": [
       "<matplotlib.collections.PolyCollection at 0xd2032a940>"
      ]
     },
     "execution_count": 16,
     "metadata": {},
     "output_type": "execute_result"
    },
    {
     "data": {
      "image/png": "[encoded data removed]",
      "text/plain": [
       "<Figure size 205.938x243 with 3 Axes>"
      ]
     },
     "metadata": {
      "image/png": {
       "height": 244,
       "width": 205
      }
     },
     "output_type": "display_data"
    }
   ],
   "source": [
    "# Plot random data\n",
    "import proplot as plot\n",
    "import numpy as np\n",
    "\n",
    "f, ax = plot.subplots()\n",
    "ax.pcolor(np.random.rand(10,10), cmap='name', colorbar='b')"
   ]
  },
  {
   "cell_type": "markdown",
   "metadata": {},
   "source": [
    "# Try out your colormaps"
   ]
  },
  {
   "cell_type": "code",
   "execution_count": 6,
   "metadata": {},
   "outputs": [],
   "source": [
    "# Plot atmospheric data\n"
   ]
  },
  {
   "cell_type": "code",
   "execution_count": 4,
   "metadata": {},
   "outputs": [],
   "source": [
    "# Plot oceanographic data\n"
   ]
  },
  {
   "cell_type": "code",
   "execution_count": 3,
   "metadata": {},
   "outputs": [],
   "source": [
    "# Plot land data\n"
   ]
  },
  {
   "cell_type": "code",
   "execution_count": 5,
   "metadata": {},
   "outputs": [],
   "source": [
    "# Plot sea ice data\n"
   ]
  }
 ],
 "metadata": {
  "kernelspec": {
   "display_name": "Python 3",
   "language": "python",
   "name": "python3"
  },
  "toc": {
   "base_numbering": 1,
   "colors": {
    "hover_highlight": "#ece260",
    "navigate_num": "#000000",
    "navigate_text": "#000000",
    "running_highlight": "#FF0000",
    "selected_highlight": "#fff968",
    "sidebar_border": "#ffffff",
    "wrapper_background": "#ffffff"
   },
   "moveMenuLeft": false,
   "nav_menu": {},
   "navigate_menu": true,
   "number_sections": true,
   "sideBar": true,
   "skip_h1_title": false,
   "threshold": 4,
   "title_cell": "Table of Contents",
   "title_sidebar": "Contents",
   "toc_cell": false,
   "toc_position": {},
   "toc_section_display": true,
   "toc_window_display": false,
   "widenNotebook": false
  },
  "varInspector": {
   "cols": {
    "lenName": 16,
    "lenType": 16,
    "lenVar": 40
   },
   "kernels_config": {
    "python": {
     "delete_cmd_postfix": "",
     "delete_cmd_prefix": "del ",
     "library": "var_list.py",
     "varRefreshCmd": "print(var_dic_list())"
    },
    "r": {
     "delete_cmd_postfix": ") ",
     "delete_cmd_prefix": "rm(",
     "library": "var_list.r",
     "varRefreshCmd": "cat(var_dic_list()) "
    }
   },
   "types_to_exclude": [
    "module",
    "function",
    "builtin_function_or_method",
    "instance",
    "_Feature"
   ],
   "window_display": false
  }
 },
 "nbformat": 4,
 "nbformat_minor": 2
}
